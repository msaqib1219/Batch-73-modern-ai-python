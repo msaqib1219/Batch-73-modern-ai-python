{
  "nbformat": 4,
  "nbformat_minor": 0,
  "metadata": {
    "colab": {
      "provenance": [],
      "include_colab_link": true
    },
    "kernelspec": {
      "name": "python3",
      "display_name": "Python 3"
    },
    "language_info": {
      "name": "python"
    }
  },
  "cells": [
    {
      "cell_type": "markdown",
      "metadata": {
        "id": "view-in-github",
        "colab_type": "text"
      },
      "source": [
        "<a href=\"https://colab.research.google.com/github/msaqib1219/Batch-73-modern-ai-python/blob/Mini-Projects/Mini_Projects_Python_.ipynb\" target=\"_parent\"><img src=\"https://colab.research.google.com/assets/colab-badge.svg\" alt=\"Open In Colab\"/></a>"
      ]
    },
    {
      "cell_type": "code",
      "execution_count": null,
      "metadata": {
        "id": "sw9wR3LVGcK5"
      },
      "outputs": [],
      "source": []
    },
    {
      "cell_type": "code",
      "source": [
        "# Mini Project 1: Baisc Calculator\n",
        "try:\n",
        "    num1_str = input(\"Enter the first number: \")\n",
        "    num1 = float(num1_str)\n",
        "    num2_str = input(\"Enter the second number: \")\n",
        "    num2 = float(num2_str)\n",
        "    print(f\"You entered: First number = {num1}, Second number = {num2}\")\n",
        "except ValueError:\n",
        "    print(\"Invalid input. Please enter valid numbers.\")\n",
        "operation = (input(\"Eneter the operation (+,-,*,/):\"))\n",
        "print(f\"You entered: operation = {operation}\")\n",
        "if operation == \"+\":\n",
        "    result = num1 + num2\n",
        "    print(f\"The sum of {num1} and {num2} is {result}\")\n",
        "elif operation == \"-\":\n",
        "    result = num1 - num2\n",
        "    print(f\"The difference between {num1} and {num2} is {result}\")\n",
        "elif operation == \"*\":\n",
        "    result = num1 * num2\n",
        "    print(f\"(The result of multiplication of {num1} and {num2} is {result}\")\n",
        "elif operation == \"/\":\n",
        "    if num2 == 0:\n",
        "        print(\"Error: Division by zero is not allowed.\")\n",
        "    else:\n",
        "      print(f\"The result of division of {num1} and  {num2} is {result}\")\n",
        "else:\n",
        "    print(\"Invalid operation. Please enter +, -, *, /\")\n"
      ],
      "metadata": {
        "colab": {
          "base_uri": "https://localhost:8080/"
        },
        "id": "1BvZIBrGPTDQ",
        "outputId": "854ddde6-c511-4db1-f11d-8cbbd17da9ae",
        "collapsed": true
      },
      "execution_count": 12,
      "outputs": [
        {
          "output_type": "stream",
          "name": "stdout",
          "text": [
            "Enter the first number: 15\n",
            "Enter the second number: 2.5\n",
            "You entered: First number = 15.0, Second number = 2.5\n",
            "Eneter the operation (+,-,*,/):*\n",
            "You entered: operation = *\n",
            "(The result of multiplication of 15.0 and 2.5 is 37.5\n"
          ]
        }
      ]
    },
    {
      "cell_type": "markdown",
      "source": [
        "Excellent! Let's solidify your understanding with three mini-projects that integrate the concepts from our Week 1 goal: data types, operators, and built-in functions.\n",
        "# Mini-Project 1: Simple Calculator\n",
        "Objective: Create a basic calculator that can perform addition, subtraction, multiplication, and division on two numbers provided by the user.\n",
        "Requirements:\n",
        " * Prompt the user to enter two numbers. Store these as floating-point numbers.\n",
        " * Prompt the user to enter an operation (+, -, *, /). Store this as a string.\n",
        " * Use conditional statements (if, elif, else) to determine which operation to perform based on the user's input.\n",
        " * Perform the calculation using the appropriate arithmetic operator.\n",
        " * Print the result in a user-friendly format (e.g., \"The sum of 5.0 and 3.0 is 8.0\").\n",
        " * Include basic error handling for division by zero. If the user tries to divide by zero, print an appropriate error message.\n",
        "# Concepts Involved:\n",
        " * Data types: float, str\n",
        " * Operators: Arithmetic (+, -, *, /), comparison (==), logical (and - for potential combined conditions)\n",
        " * Built-in functions: input(), float(), print()\n",
        " * Control flow: if, elif, else\n",
        "\n",
        "Mini-Project 3: Age Checker\n",
        "Objective: Determine if a person is old enough to vote (assuming the voting age is 18).\n",
        "Requirements:\n",
        " * Prompt the user to enter their current age. Store this as an integer.\n",
        " * Use a comparison operator to check if the entered age is greater than or equal to 18.\n",
        " * Based on the comparison, print an appropriate message indicating whether the person is eligible to vote or not.\n",
        " * (Optional Enhancement): You could also ask for their name and include it in the output message.\n",
        "Concepts Involved:\n",
        " * Data types: int, str (for optional name)\n",
        " * Operators: Comparison (>=)\n",
        " * Built-in functions: input(), int(), print()\n",
        " * Control flow: if, else\n",
        "These mini-projects should give you practical experience applying the concepts we've discussed. Start with the first one and work your way through. Don't hesitate to ask if you encounter any challenges or have questions along the way! Good luck! 😊"
      ],
      "metadata": {
        "id": "_xUOKSP_Git-"
      }
    },
    {
      "cell_type": "markdown",
      "source": [
        "# Mini-Project 2: Text Analyzer\n",
        "Objective: Analyze a short piece of text provided by the user to count the number of words and the number of characters.\n",
        "Requirements:\n",
        " * Prompt the user to enter a sentence or a short piece of text. Store this as a string.\n",
        " * Count the total number of characters in the input text (including spaces and punctuation).\n",
        " * Split the text into a list of words (you can assume words are separated by spaces).\n",
        " * Count the number of words in the list.\n",
        " * Print the results in a clear format (e.g., \"The text contains 30 characters and 5 words.\").\n",
        "# Concepts Involved:\n",
        " * Data types: str, list, int\n",
        " * Operators: None directly for calculation, but string concatenation for output.\n",
        " * Built-in functions: input(), len(), split(), print()"
      ],
      "metadata": {
        "id": "79uz6CHnPqCA"
      }
    },
    {
      "cell_type": "code",
      "source": [
        "# Mini-Project 2: Text Analyzer\n",
        "text = input(\"Enter a sentence or short pharse:  \")\n",
        "text1 = str(text)\n",
        "print(f\"The total numbers of charcters in input text is {len(text1)}\")\n",
        "print(text1.split())\n",
        "num_of_characters = len(text1)\n",
        "words = text1.split()\n",
        "length_of_words = len(words)\n",
        "print(f\"The number of words in new splited list are: {len(words)}\")\n",
        "print(f\"The text contain {len(text1)} Characters and {len(words)} words\") # By using f string method\n",
        "print(f\"The text contain {num_of_characters} Characters and {length_of_words} words\")"
      ],
      "metadata": {
        "colab": {
          "base_uri": "https://localhost:8080/"
        },
        "id": "Ayu38X5sM4LX",
        "outputId": "c9aadbfd-61ce-4989-ff5b-c573cae74d06"
      },
      "execution_count": 37,
      "outputs": [
        {
          "output_type": "stream",
          "name": "stdout",
          "text": [
            "Enter a sentence or short pharse:  Objective: Analyze a short piece of text provided by the user to count the number of words and the number of characters. Requirements:\n",
            "The total numbers of charcters in input text is 134\n",
            "['Objective:', 'Analyze', 'a', 'short', 'piece', 'of', 'text', 'provided', 'by', 'the', 'user', 'to', 'count', 'the', 'number', 'of', 'words', 'and', 'the', 'number', 'of', 'characters.', 'Requirements:']\n",
            "The number of words in new splited list are: 23\n",
            "The text contain 134 Characters and 23 words\n",
            "The text contain134Characters and 23 words\n"
          ]
        }
      ]
    },
    {
      "cell_type": "code",
      "source": [],
      "metadata": {
        "id": "rannfTeoxFfb"
      },
      "execution_count": 34,
      "outputs": []
    }
  ]
}
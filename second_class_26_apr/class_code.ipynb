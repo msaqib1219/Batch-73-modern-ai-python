{
  "nbformat": 4,
  "nbformat_minor": 0,
  "metadata": {
    "colab": {
      "provenance": []
    },
    "kernelspec": {
      "name": "python3",
      "display_name": "Python 3"
    },
    "language_info": {
      "name": "python"
    }
  },
  "cells": [
    {
      "cell_type": "markdown",
      "source": [
        "# Assignments"
      ],
      "metadata": {
        "id": "q0HcupOWqnO9"
      }
    },
    {
      "cell_type": "markdown",
      "source": [
        "# Topics to be covered\n",
        "1. [String Methods](https://github.com/usmanashrf/batch63-cloud-native-modern-python-classwork/tree/main/04-class_work/04b-string_methods)\n",
        "2. String Concatenation\n",
        "3. String Repitition\n",
        "4. Membership Operators\n",
        "5. Indexing in Strings\n",
        "6. Slicing in Strings\n",
        "7. String Formatting\n",
        "8. Escape Sequence\n",
        "9. `type`, `dir` and `id` functions\n",
        "10. Mutable & Immutable data types\n",
        "11. Interning\n",
        "12. Comments in Python\n"
      ],
      "metadata": {
        "id": "HvaOSMZwjOx0"
      }
    },
    {
      "cell_type": "markdown",
      "source": [
        "### 8. String Formatting (`%`, `.format()`, `f-strings`)\n",
        "Strings can be formatted using different methods.\n",
        "```python\n",
        "name = \"Alice\"\n",
        "age = 30\n",
        "\n",
        "# Using % operator\n",
        "print(\"My name is %s and I am %d years old.\" % (name, age))\n",
        "\n",
        "# Using .format()\n",
        "print(\"My name is {} and I am {} years old.\".format(name, age))  \n",
        "\n",
        "# Using f-strings (Python 3.6+)\n",
        "print(f\"My name is {name} and I am {age} years old.\")\n",
        "```\n",
        "\n",
        "\n",
        "#### 8a. Common format specifiers\n",
        "1. `%s` (String Format Specifier):\n",
        "\n",
        "    * `%`s is used as a placeholder for a string. It tells Python to insert the string representation of the corresponding variable into the position where `%s` appears in the string.\n",
        "    In our example:\n",
        "    * `%s` corresponds to the variable name, which has the value \"Alice\".\n",
        "    * \"My name is `%s`\" becomes \"My name is Alice\".\n",
        "2. `%d` (Integer Format Specifier):\n",
        "\n",
        "    * `%d` is used as a placeholder for an integer. It tells Python to insert the integer value of the corresponding variable into the position where `%d` appears in the string.\n",
        "    In our example:\n",
        "    * `%d` corresponds to the variable age, which has the value 30.\n",
        "    * \"I am `%d` years old\" becomes \"I am 30 years old\".\n",
        "3. `%f` (Float Format Specifier)\n",
        "    ```python\n",
        "    pi = 3.14159\n",
        "    formatted_string = \"The value of pi is approximately %.2f\" % pi\"\n",
        "    print(formatted_string)\n",
        "    ```\n",
        "\n",
        "4. `%x` (Integers in Hexadecimal Format Specifier)\n",
        "    ```python\n",
        "    number = 255\n",
        "    formatted_string = \"The hexadecimal representation of %d is %x\" % (number, number)\n",
        "    print(formatted_string)\n",
        "    ```\n",
        "\n",
        "5. `%o` (Integers in Octal Format Specifier)\n",
        "\n",
        "    ```python\n",
        "    number = 255\n",
        "    formatted_string = \"The octal representation of %d is %o\" % (number, number)\"\n",
        "    print(formatted_string)\n",
        "    ```\n",
        "\n",
        "6. `%e` (Scientific Format Specifier) e.g `2.5e+02`\n",
        "    ```python\n",
        "    large_number = 25000\n",
        "    formatted_string = \"The scientific notation of %d is %e\" % (large_number, large_number)\"\n",
        "    print(formatted_string)\n",
        "    ```\n",
        "\n",
        "7. `%c` (Character Format Specifier)\n",
        "\n",
        "    ```python\n",
        "    char_code = 65\n",
        "    formatted_string = \"The character for ASCII code %d is %c\" % (char_code, char_code)\n",
        "    print(formatted_string)\n",
        "    ```\n",
        "8. `%r` (Raw Format Specifier)\n",
        "    ```python\n",
        "    text = \"Hello\\nWorld\"\n",
        "    formatted_string = \"Raw representation: %r\" % text\n",
        "    print(formatted_string)\n",
        "    ```\n",
        "### 9. Escape Sequence\n",
        "- ```\\  ``` -> Escape character\n",
        "- ```\\n ``` -> Escape sequence\n",
        "- ```\\n ``` -> inserts new line\n",
        "- ```\\\\ ``` -> inserts backslach\n",
        "- ```\\' ``` -> inserts single quote\n",
        "- ```\\\" ``` -> inserts double quote\n",
        "- ```\\t ``` -> inserts tab\n",
        "- ```\\r ``` -> moves the cursor to the start of the line\n",
        "- ```\\a ``` -> Beeps\n",
        "- ```\\b ``` -> Backspace"
      ],
      "metadata": {
        "id": "uo6RYsEUqHjt"
      }
    },
    {
      "cell_type": "code",
      "source": [
        "greetings = 'Rehan\\bgreeting'\n",
        "print(greetings)"
      ],
      "metadata": {
        "colab": {
          "base_uri": "https://localhost:8080/"
        },
        "id": "GubaGUFKmtHz",
        "outputId": "4893c0d1-a6d9-4768-9f09-0b427ebfbcc0"
      },
      "execution_count": 29,
      "outputs": [
        {
          "output_type": "stream",
          "name": "stdout",
          "text": [
            "Rehan\bgreeting\n"
          ]
        }
      ]
    },
    {
      "cell_type": "code",
      "source": [
        "result = \"Rehan \\\n",
        "is  \"\n",
        "\n",
        "print(result)"
      ],
      "metadata": {
        "colab": {
          "base_uri": "https://localhost:8080/"
        },
        "id": "mEPD5PajnVut",
        "outputId": "d18ac0b5-2bb4-468c-de23-bb6f2bfb657e"
      },
      "execution_count": 24,
      "outputs": [
        {
          "output_type": "stream",
          "name": "stdout",
          "text": [
            "Rehan is \n"
          ]
        }
      ]
    },
    {
      "cell_type": "code",
      "execution_count": 1,
      "metadata": {
        "colab": {
          "base_uri": "https://localhost:8080/"
        },
        "id": "UFCwTJtnjHKp",
        "outputId": "08351184-62e7-4883-9e73-689c44c9ee9c"
      },
      "outputs": [
        {
          "output_type": "stream",
          "name": "stdout",
          "text": [
            "hellohellohello\n"
          ]
        }
      ],
      "source": [
        "message = \"hello\"\n",
        "\n",
        "print(message * 3)"
      ]
    },
    {
      "cell_type": "markdown",
      "source": [
        "`in`  \n",
        "`not in`\n"
      ],
      "metadata": {
        "id": "WVMF5R8Wermx"
      }
    },
    {
      "cell_type": "code",
      "source": [
        "greetings = \"hello Rehan\"\n",
        "\n",
        "print(\"re\" not in greetings)\n",
        "\n"
      ],
      "metadata": {
        "colab": {
          "base_uri": "https://localhost:8080/"
        },
        "id": "MzxMkox7emRQ",
        "outputId": "5bd7fff0-b5ea-4c4a-e2c8-67fe1dbaa1c7"
      },
      "execution_count": 3,
      "outputs": [
        {
          "output_type": "stream",
          "name": "stdout",
          "text": [
            "True\n"
          ]
        }
      ]
    },
    {
      "cell_type": "code",
      "source": [
        "message_1 = \"1234Hello Rehan how are you.\"\n",
        "print(message_1[7])\n",
        "\n",
        "print(len(message_1))\n",
        "print(\" \")\n"
      ],
      "metadata": {
        "colab": {
          "base_uri": "https://localhost:8080/"
        },
        "id": "asG-UTDVfhow",
        "outputId": "0cd3cef9-e5cf-4ece-be76-864e5042efe0"
      },
      "execution_count": 13,
      "outputs": [
        {
          "output_type": "stream",
          "name": "stdout",
          "text": [
            "l\n",
            "28\n",
            " \n"
          ]
        }
      ]
    },
    {
      "cell_type": "markdown",
      "source": [
        "### String Formatting"
      ],
      "metadata": {
        "id": "gfeAhbhShvlu"
      }
    },
    {
      "cell_type": "code",
      "source": [
        "name = \"Alice\"\n",
        "age = 30\n",
        "\n",
        "# Using % operator\n",
        "print(\"My name is %s and I am %d years old.\" % (name, age))"
      ],
      "metadata": {
        "colab": {
          "base_uri": "https://localhost:8080/"
        },
        "id": "s393sEIXfh-r",
        "outputId": "505fc551-4a2f-4b23-fa39-7afd02b163c1"
      },
      "execution_count": 18,
      "outputs": [
        {
          "output_type": "stream",
          "name": "stdout",
          "text": [
            "My name is Alice and I am 30 years old.\n"
          ]
        }
      ]
    },
    {
      "cell_type": "code",
      "source": [
        "print(\"My name is {} and I am {} years old\".format(name, age))"
      ],
      "metadata": {
        "colab": {
          "base_uri": "https://localhost:8080/"
        },
        "id": "MYyAe_aNlTlg",
        "outputId": "5e95127a-0868-4508-bc74-b504334c9938"
      },
      "execution_count": 19,
      "outputs": [
        {
          "output_type": "stream",
          "name": "stdout",
          "text": [
            "My name is Alice and I am 30 years old\n"
          ]
        }
      ]
    },
    {
      "cell_type": "code",
      "source": [
        "# f-string\n",
        "name = \"Rehan\"\n",
        "age = 32\n",
        "print(f\"My name is {name} and I am {age} years old\")"
      ],
      "metadata": {
        "colab": {
          "base_uri": "https://localhost:8080/"
        },
        "id": "t3LO0LeAlxRf",
        "outputId": "9959ae4c-0b66-43ac-a017-90b2745901ef"
      },
      "execution_count": 20,
      "outputs": [
        {
          "output_type": "stream",
          "name": "stdout",
          "text": [
            "My name is Rehan and I am 32 years old\n"
          ]
        }
      ]
    },
    {
      "cell_type": "code",
      "source": [
        "name = \"Muhammad\"\n",
        "greetings = \"Hello\"\n",
        "# print (greetings, name)\n",
        "\n",
        "\n",
        "print(f\"Hello {name}\")"
      ],
      "metadata": {
        "colab": {
          "base_uri": "https://localhost:8080/"
        },
        "id": "kBdVdQAUigsW",
        "outputId": "c5735e65-b8c9-40ff-f553-871c810cb6b9"
      },
      "execution_count": 14,
      "outputs": [
        {
          "output_type": "stream",
          "name": "stdout",
          "text": [
            "Hello Muhammad\n"
          ]
        }
      ]
    },
    {
      "cell_type": "code",
      "source": [
        "name = \"Usman\"\n",
        "# type(name)\n",
        "print(f\"type is: {type(name)}\")\n",
        "print(f\"dir is: {dir(name)}\")\n",
        "print(f\"id is: {id(name)}\")"
      ],
      "metadata": {
        "colab": {
          "base_uri": "https://localhost:8080/"
        },
        "id": "njwwlN9Goo07",
        "outputId": "c90f9fec-0aa1-485c-8470-d53f477c358f"
      },
      "execution_count": 30,
      "outputs": [
        {
          "output_type": "stream",
          "name": "stdout",
          "text": [
            "type is: <class 'str'>\n",
            "dir is: ['__add__', '__class__', '__contains__', '__delattr__', '__dir__', '__doc__', '__eq__', '__format__', '__ge__', '__getattribute__', '__getitem__', '__getnewargs__', '__getstate__', '__gt__', '__hash__', '__init__', '__init_subclass__', '__iter__', '__le__', '__len__', '__lt__', '__mod__', '__mul__', '__ne__', '__new__', '__reduce__', '__reduce_ex__', '__repr__', '__rmod__', '__rmul__', '__setattr__', '__sizeof__', '__str__', '__subclasshook__', 'capitalize', 'casefold', 'center', 'count', 'encode', 'endswith', 'expandtabs', 'find', 'format', 'format_map', 'index', 'isalnum', 'isalpha', 'isascii', 'isdecimal', 'isdigit', 'isidentifier', 'islower', 'isnumeric', 'isprintable', 'isspace', 'istitle', 'isupper', 'join', 'ljust', 'lower', 'lstrip', 'maketrans', 'partition', 'removeprefix', 'removesuffix', 'replace', 'rfind', 'rindex', 'rjust', 'rpartition', 'rsplit', 'rstrip', 'split', 'splitlines', 'startswith', 'strip', 'swapcase', 'title', 'translate', 'upper', 'zfill']\n",
            "id is: 132590662364912\n"
          ]
        }
      ]
    },
    {
      "cell_type": "code",
      "source": [
        "# Interning\n",
        "# 1. not computed\n",
        "# 2. not much long\n",
        "\n",
        "\n",
        "name1 = \"Rehan\"\n",
        "\n",
        "name2 = \"Rehan\"\n",
        "print(id(name1))\n",
        "print(id(name2))"
      ],
      "metadata": {
        "colab": {
          "base_uri": "https://localhost:8080/"
        },
        "id": "fwI6YtOQsD89",
        "outputId": "d19fbec7-04f2-4a33-ffc3-15849e805fc0"
      },
      "execution_count": 31,
      "outputs": [
        {
          "output_type": "stream",
          "name": "stdout",
          "text": [
            "132591223192560\n",
            "132591223192560\n"
          ]
        }
      ]
    },
    {
      "cell_type": "markdown",
      "source": [
        "## Immutable\n",
        "- string\n",
        "- int\n",
        "- float\n",
        "- bool\n",
        "- tuple\n",
        "\n",
        "## Mutable\n",
        "- sets\n",
        "-  list\n",
        "- dictionaries"
      ],
      "metadata": {
        "id": "EsL8urDNtp0u"
      }
    },
    {
      "cell_type": "code",
      "source": [
        "name = \"Rehan\"\n",
        "\n",
        "# print(id(name))\n",
        "\n",
        "name = \"usman\"\n",
        "# print(id(name))\n",
        "\n",
        "name_list = [\"musa\", \"hadia\"]\n",
        "\n",
        "print(id(name_list))\n",
        "\n",
        "name_list.append(\"usman\")\n",
        "print(name_list)\n",
        "\n",
        "print(id(name_list))"
      ],
      "metadata": {
        "id": "SerO09vVtoMN",
        "outputId": "483ca2b2-7e69-4520-befd-97bea3f92e7f",
        "colab": {
          "base_uri": "https://localhost:8080/"
        }
      },
      "execution_count": 38,
      "outputs": [
        {
          "output_type": "stream",
          "name": "stdout",
          "text": [
            "132590678179072\n",
            "['musa', 'hadia', 'usman']\n",
            "132590678179072\n"
          ]
        }
      ]
    },
    {
      "cell_type": "code",
      "source": [
        "# this is a comment\n",
        "name = \"Ibtisam\" # This is the name of faculty member\n",
        "\n",
        "# doc string\n",
        "\"\"\"\n",
        "This\n",
        "is a multiline\n",
        "comment\n",
        "\"\"\"\n"
      ],
      "metadata": {
        "id": "Y2QS66AvvnXG"
      },
      "execution_count": null,
      "outputs": []
    },
    {
      "cell_type": "markdown",
      "source": [],
      "metadata": {
        "id": "8SzIBwp1vmgm"
      }
    },
    {
      "cell_type": "markdown",
      "source": [
        "# List"
      ],
      "metadata": {
        "id": "kdmwu_vp16ky"
      }
    },
    {
      "cell_type": "code",
      "source": [
        "std_name_1 = \"Ali\"\n",
        "std_name_2 = \"Usman\"\n",
        "std_name_3 = \"Rehan\"\n",
        "std_name_4 = \"Usman\"\n",
        "\n",
        "student_names = [\"Ali\", \"Rehan\", \"Usman\", \"Ibtisam\"]\n",
        "        #         0       1        2         3\n",
        "# Indexing\n",
        "print(student_names[3])\n",
        "\n",
        "# last element in list\n",
        "print(student_names[-1])\n",
        "\n",
        "print(len(student_names))\n"
      ],
      "metadata": {
        "id": "y-BsOfbr0Vat",
        "outputId": "3a00ff83-469f-4b6d-f161-193a0bb74bc8",
        "colab": {
          "base_uri": "https://localhost:8080/"
        }
      },
      "execution_count": 42,
      "outputs": [
        {
          "output_type": "stream",
          "name": "stdout",
          "text": [
            "Ibtisam\n",
            "Ibtisam\n",
            "4\n"
          ]
        }
      ]
    },
    {
      "cell_type": "code",
      "source": [
        "dir(student_names)"
      ],
      "metadata": {
        "id": "XrB3DncF4Wk1",
        "outputId": "5d8ee914-4279-4f51-cbe3-3eb4be1cbdbd",
        "colab": {
          "base_uri": "https://localhost:8080/"
        }
      },
      "execution_count": 44,
      "outputs": [
        {
          "output_type": "execute_result",
          "data": {
            "text/plain": [
              "['__add__',\n",
              " '__class__',\n",
              " '__class_getitem__',\n",
              " '__contains__',\n",
              " '__delattr__',\n",
              " '__delitem__',\n",
              " '__dir__',\n",
              " '__doc__',\n",
              " '__eq__',\n",
              " '__format__',\n",
              " '__ge__',\n",
              " '__getattribute__',\n",
              " '__getitem__',\n",
              " '__getstate__',\n",
              " '__gt__',\n",
              " '__hash__',\n",
              " '__iadd__',\n",
              " '__imul__',\n",
              " '__init__',\n",
              " '__init_subclass__',\n",
              " '__iter__',\n",
              " '__le__',\n",
              " '__len__',\n",
              " '__lt__',\n",
              " '__mul__',\n",
              " '__ne__',\n",
              " '__new__',\n",
              " '__reduce__',\n",
              " '__reduce_ex__',\n",
              " '__repr__',\n",
              " '__reversed__',\n",
              " '__rmul__',\n",
              " '__setattr__',\n",
              " '__setitem__',\n",
              " '__sizeof__',\n",
              " '__str__',\n",
              " '__subclasshook__',\n",
              " 'append',\n",
              " 'clear',\n",
              " 'copy',\n",
              " 'count',\n",
              " 'extend',\n",
              " 'index',\n",
              " 'insert',\n",
              " 'pop',\n",
              " 'remove',\n",
              " 'reverse',\n",
              " 'sort']"
            ]
          },
          "metadata": {},
          "execution_count": 44
        }
      ]
    },
    {
      "cell_type": "code",
      "source": [
        "print(student_names)"
      ],
      "metadata": {
        "id": "qXwPUzbh4jmO",
        "outputId": "03fc8d34-3a03-459b-a9aa-97fff1649766",
        "colab": {
          "base_uri": "https://localhost:8080/"
        }
      },
      "execution_count": 45,
      "outputs": [
        {
          "output_type": "stream",
          "name": "stdout",
          "text": [
            "['Ali', 'Rehan', 'Usman', 'Ibtisam']\n"
          ]
        }
      ]
    },
    {
      "cell_type": "code",
      "source": [
        "student_names.append(\"Wania\")\n",
        "print(student_names)"
      ],
      "metadata": {
        "id": "EcjzOT9b4sug",
        "outputId": "3c1bd4b8-cbcb-49d0-eda5-15f13536c0c4",
        "colab": {
          "base_uri": "https://localhost:8080/"
        }
      },
      "execution_count": 46,
      "outputs": [
        {
          "output_type": "stream",
          "name": "stdout",
          "text": [
            "['Ali', 'Rehan', 'Usman', 'Ibtisam', 'Wania']\n"
          ]
        }
      ]
    },
    {
      "cell_type": "code",
      "source": [
        "student_names.append(15)\n",
        "print(student_names)"
      ],
      "metadata": {
        "id": "kWjPbZJz5fKu",
        "outputId": "f0c4068e-20a4-4e62-979d-e8a18cc3360b",
        "colab": {
          "base_uri": "https://localhost:8080/"
        }
      },
      "execution_count": 47,
      "outputs": [
        {
          "output_type": "stream",
          "name": "stdout",
          "text": [
            "['Ali', 'Rehan', 'Usman', 'Ibtisam', 'Wania', 15]\n"
          ]
        }
      ]
    },
    {
      "cell_type": "code",
      "source": [
        "student_names.insert(2, 162)\n",
        "print(student_names)"
      ],
      "metadata": {
        "id": "Yc2ci4l85u4w",
        "outputId": "67d2d61e-b2f5-443b-cca8-110346eee231",
        "colab": {
          "base_uri": "https://localhost:8080/"
        }
      },
      "execution_count": 49,
      "outputs": [
        {
          "output_type": "stream",
          "name": "stdout",
          "text": [
            "['Ali', 'Rehan', 162, 162, 'Usman', 'Ibtisam', 'Wania', 15]\n"
          ]
        }
      ]
    },
    {
      "cell_type": "code",
      "source": [
        "student_names.remove(162)\n",
        "print(student_names)"
      ],
      "metadata": {
        "id": "ajnLTKmX6cx1",
        "outputId": "a0d0f560-8098-4cfd-a671-3dd4611c2926",
        "colab": {
          "base_uri": "https://localhost:8080/"
        }
      },
      "execution_count": 50,
      "outputs": [
        {
          "output_type": "stream",
          "name": "stdout",
          "text": [
            "['Ali', 'Rehan', 162, 'Usman', 'Ibtisam', 'Wania', 15]\n"
          ]
        }
      ]
    },
    {
      "cell_type": "code",
      "source": [
        "student_names.pop()\n",
        "print(student_names)"
      ],
      "metadata": {
        "id": "mHobu4p_6s-s",
        "outputId": "351a61c3-d272-48e6-aae4-ae6ca051fef1",
        "colab": {
          "base_uri": "https://localhost:8080/"
        }
      },
      "execution_count": 51,
      "outputs": [
        {
          "output_type": "stream",
          "name": "stdout",
          "text": [
            "['Ali', 'Rehan', 162, 'Usman', 'Ibtisam', 'Wania']\n"
          ]
        }
      ]
    },
    {
      "cell_type": "code",
      "source": [
        "popped_val = student_names.pop()\n",
        "print(popped_val)\n",
        "print(student_names)"
      ],
      "metadata": {
        "id": "gWaHFrN37B4o",
        "outputId": "504c16ea-eaf6-49c3-e88d-06f7ad820065",
        "colab": {
          "base_uri": "https://localhost:8080/"
        }
      },
      "execution_count": 52,
      "outputs": [
        {
          "output_type": "stream",
          "name": "stdout",
          "text": [
            "Wania\n",
            "['Ali', 'Rehan', 162, 'Usman', 'Ibtisam']\n"
          ]
        }
      ]
    },
    {
      "cell_type": "markdown",
      "source": [
        "# Slicing\n"
      ],
      "metadata": {
        "id": "V5kmFWv98qOI"
      }
    },
    {
      "cell_type": "code",
      "source": [
        "teacher_names = [\"Rehan\", \"Usman\", \"Ibtisam\", \"Sir Zia\"]\n",
        "# [start:end(not included):step(optional)]\n",
        "best_teachers = teacher_names[2:4]"
      ],
      "metadata": {
        "id": "mz2kSXA18sm6"
      },
      "execution_count": 53,
      "outputs": []
    },
    {
      "cell_type": "code",
      "source": [
        "best_teachers\n"
      ],
      "metadata": {
        "id": "wX1V9l5Y9eIV",
        "outputId": "e4f2162a-f80a-4343-ceb3-3b717aac739e",
        "colab": {
          "base_uri": "https://localhost:8080/"
        }
      },
      "execution_count": 54,
      "outputs": [
        {
          "output_type": "execute_result",
          "data": {
            "text/plain": [
              "['Ibtisam', 'Sir Zia']"
            ]
          },
          "metadata": {},
          "execution_count": 54
        }
      ]
    },
    {
      "cell_type": "code",
      "source": [
        "new_teachers = teacher_names[1:4:2]\n",
        "new_teachers"
      ],
      "metadata": {
        "id": "0FFdK3Hf9pBz",
        "outputId": "fc3cc4c4-e4f5-45b2-fe38-0ae9834432df",
        "colab": {
          "base_uri": "https://localhost:8080/"
        }
      },
      "execution_count": 55,
      "outputs": [
        {
          "output_type": "execute_result",
          "data": {
            "text/plain": [
              "['Usman', 'Sir Zia']"
            ]
          },
          "metadata": {},
          "execution_count": 55
        }
      ]
    },
    {
      "cell_type": "code",
      "source": [
        "first_teacher = teacher_names[0:3]\n",
        "first_teacher"
      ],
      "metadata": {
        "id": "l4VLB4P696mU",
        "outputId": "9794afee-1f22-4835-a8e8-bfea2c8b203e",
        "colab": {
          "base_uri": "https://localhost:8080/"
        }
      },
      "execution_count": 57,
      "outputs": [
        {
          "output_type": "execute_result",
          "data": {
            "text/plain": [
              "['Rehan', 'Usman', 'Ibtisam']"
            ]
          },
          "metadata": {},
          "execution_count": 57
        }
      ]
    }
  ]
}
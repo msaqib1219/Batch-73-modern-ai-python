{
  "nbformat": 4,
  "nbformat_minor": 0,
  "metadata": {
    "colab": {
      "provenance": []
    },
    "kernelspec": {
      "name": "python3",
      "display_name": "Python 3"
    },
    "language_info": {
      "name": "python"
    }
  },
  "cells": [
    {
      "cell_type": "code",
      "source": [
        "print(\"hello world\")"
      ],
      "metadata": {
        "colab": {
          "base_uri": "https://localhost:8080/"
        },
        "id": "UZSn0q3WiQFX",
        "outputId": "d110bf5e-d47c-42df-8009-2f3a002f5f5e"
      },
      "execution_count": 1,
      "outputs": [
        {
          "output_type": "stream",
          "name": "stdout",
          "text": [
            "hello world\n"
          ]
        }
      ]
    },
    {
      "cell_type": "markdown",
      "source": [
        "print is built-in funciton in python\n"
      ],
      "metadata": {
        "id": "WfPK7rGOiQpc"
      }
    },
    {
      "cell_type": "code",
      "source": [
        "print(\"hello there\")"
      ],
      "metadata": {
        "colab": {
          "base_uri": "https://localhost:8080/"
        },
        "id": "Y_YUUwS9ifNQ",
        "outputId": "51debf14-4274-4b1b-f46d-bce6a2eeb8c3"
      },
      "execution_count": 2,
      "outputs": [
        {
          "output_type": "stream",
          "name": "stdout",
          "text": [
            "hello there\n"
          ]
        }
      ]
    },
    {
      "cell_type": "code",
      "source": [
        "# prompt: Write me the code to add 2 numbers\n",
        "\n",
        "def add_numbers(x, y):\n",
        "  \"\"\"This function adds two numbers and returns the sum.\"\"\"\n",
        "  return x + y\n"
      ],
      "metadata": {
        "id": "SR3TGFfMkJBj"
      },
      "execution_count": 3,
      "outputs": []
    },
    {
      "cell_type": "code",
      "source": [
        "# prompt: Generate me python code for a simple calculator with basic operations (addition, multiplication, division, subtraction)\n",
        "\n",
        "def multiply_numbers(x, y):\n",
        "  \"\"\"This function multiplies two numbers and returns the product.\"\"\"\n",
        "  return x * y\n",
        "\n",
        "def subtract_numbers(x, y):\n",
        "  \"\"\"This function subtracts two numbers and returns the difference.\"\"\"\n",
        "  return x - y\n",
        "\n",
        "def divide_numbers(x, y):\n",
        "  \"\"\"This function divides two numbers and returns the quotient.\"\"\"\n",
        "  if y == 0:\n",
        "    return \"Division by zero error!\"\n",
        "  else:\n",
        "    return x / y\n",
        "\n",
        "while True:\n",
        "  print(\"Select operation:\")\n",
        "  print(\"1. Add\")\n",
        "  print(\"2. Multiply\")\n",
        "  print(\"3. Subtract\")\n",
        "  print(\"4. Divide\")\n",
        "  print(\"5. Exit\")\n",
        "\n",
        "  choice = input(\"Enter choice(1/2/3/4/5): \")\n",
        "\n",
        "  if choice in ('1', '2', '3', '4'):\n",
        "    try:\n",
        "      num1 = float(input(\"Enter first number: \"))\n",
        "      num2 = float(input(\"Enter second number: \"))\n",
        "    except ValueError:\n",
        "      print(\"Invalid input. Please enter numbers only.\")\n",
        "      continue\n",
        "\n",
        "    if choice == '1':\n",
        "      print(num1, \"+\", num2, \"=\", add_numbers(num1, num2))\n",
        "    elif choice == '2':\n",
        "      print(num1, \"*\", num2, \"=\", multiply_numbers(num1, num2))\n",
        "    elif choice == '3':\n",
        "      print(num1, \"-\", num2, \"=\", subtract_numbers(num1, num2))\n",
        "    elif choice == '4':\n",
        "      print(num1, \"/\", num2, \"=\", divide_numbers(num1, num2))\n",
        "  elif choice == '5':\n",
        "    break\n",
        "  else:\n",
        "    print(\"Invalid input\")\n"
      ],
      "metadata": {
        "colab": {
          "base_uri": "https://localhost:8080/"
        },
        "id": "EIk5cT9enKho",
        "outputId": "4fce879d-2571-4542-b4d9-276ac1689efe"
      },
      "execution_count": 4,
      "outputs": [
        {
          "name": "stdout",
          "output_type": "stream",
          "text": [
            "Select operation:\n",
            "1. Add\n",
            "2. Multiply\n",
            "3. Subtract\n",
            "4. Divide\n",
            "5. Exit\n",
            "Enter choice(1/2/3/4/5): 1\n",
            "Enter first number: 5\n",
            "Enter second number: 7\n",
            "5.0 + 7.0 = 12.0\n",
            "Select operation:\n",
            "1. Add\n",
            "2. Multiply\n",
            "3. Subtract\n",
            "4. Divide\n",
            "5. Exit\n",
            "Enter choice(1/2/3/4/5): 5\n"
          ]
        }
      ]
    },
    {
      "cell_type": "markdown",
      "source": [
        "3 -> Integer :    int\n",
        "3.2 -> flot  : float\n",
        "\n",
        "\"rehan\"\n",
        "\"3\"  or 'Musa'\n",
        "\n",
        "Rehan's laptop\n",
        "\n",
        "Usman said \" sdfladsljkf\""
      ],
      "metadata": {
        "id": "DIyBkzUGp0dB"
      }
    },
    {
      "cell_type": "code",
      "source": [
        "\n",
        "\"Rehan's laptop\"\n",
        "'String colour'\n",
        "'Usman said \" sdfladsljkf\"'"
      ],
      "metadata": {
        "colab": {
          "base_uri": "https://localhost:8080/",
          "height": 109
        },
        "id": "8pTvTEvEpvhC",
        "outputId": "b1026ae1-5c35-4de7-a19f-5b11ea705bbf"
      },
      "execution_count": 5,
      "outputs": [
        {
          "output_type": "error",
          "ename": "SyntaxError",
          "evalue": "unterminated string literal (detected at line 1) (<ipython-input-5-6f4cf4ac0615>, line 1)",
          "traceback": [
            "\u001b[0;36m  File \u001b[0;32m\"<ipython-input-5-6f4cf4ac0615>\"\u001b[0;36m, line \u001b[0;32m1\u001b[0m\n\u001b[0;31m    \"Rehan's laptop'\u001b[0m\n\u001b[0m    ^\u001b[0m\n\u001b[0;31mSyntaxError\u001b[0m\u001b[0;31m:\u001b[0m unterminated string literal (detected at line 1)\n"
          ]
        }
      ]
    },
    {
      "cell_type": "markdown",
      "source": [
        "Boolean True  False  : bool\n",
        "[\"]"
      ],
      "metadata": {
        "id": "h1lAgU-WrH8L"
      }
    },
    {
      "cell_type": "code",
      "source": [
        "print(\"Rehaan\")\n",
        "print(\"Rehaaan\")\n",
        "print(\"Rehan\")\n",
        "print(\"Rhan\")\n",
        "print(\"Rehan\")\n",
        "print(\"Rehan\")\n",
        "print(\"rehan\")\n",
        "print(\"Rehan\")\n",
        "print(\"Rehan\")\n"
      ],
      "metadata": {
        "colab": {
          "base_uri": "https://localhost:8080/"
        },
        "id": "cTnTPXtlq-Wg",
        "outputId": "0b9e9c31-17d8-4e73-83a6-97e31aecc20c"
      },
      "execution_count": 6,
      "outputs": [
        {
          "output_type": "stream",
          "name": "stdout",
          "text": [
            "Rehan\n",
            "Rehan\n",
            "Rehan\n",
            "Rehan\n",
            "Rehan\n",
            "Rehan\n",
            "Rehan\n",
            "Rehan\n",
            "Rehan\n"
          ]
        }
      ]
    },
    {
      "cell_type": "code",
      "source": [
        "my_name = \"Rehaan\"\n",
        "\n",
        "print(my_name)\n",
        "print(my_name)\n",
        "print(my_name)\n",
        "print(my_name)\n",
        "print(my_name)\n",
        "print(my_name)\n",
        "print(my_name)\n",
        "print(my_name)\n",
        "print(my_name)"
      ],
      "metadata": {
        "id": "xPtZbhGttvNr"
      },
      "execution_count": null,
      "outputs": []
    },
    {
      "cell_type": "code",
      "source": [
        "first_number = 5\n",
        "second_number = 6\n",
        "\n",
        "result = first_number+second_number\n",
        "\n",
        "12name = 'Usman'\n"
      ],
      "metadata": {
        "id": "-rPkXcMyuioe"
      },
      "execution_count": null,
      "outputs": []
    },
    {
      "cell_type": "code",
      "source": [
        "# What is builin function\n",
        "print(\"My name is Rehan\")"
      ],
      "metadata": {
        "id": "QgpjroSkxSiL",
        "outputId": "9cc19304-a517-440a-c465-dd746142bdc4",
        "colab": {
          "base_uri": "https://localhost:8080/"
        }
      },
      "execution_count": 7,
      "outputs": [
        {
          "output_type": "stream",
          "name": "stdout",
          "text": [
            "My name is Rehan\n"
          ]
        }
      ]
    },
    {
      "cell_type": "code",
      "source": [
        "first_number = input(\"Enter first number: \")\n",
        "second_number = input(\"Enter second number: \")\n",
        "\n",
        "print(first_number)\n",
        "print(second_number)"
      ],
      "metadata": {
        "id": "D8wgQ0ZwyoOH",
        "outputId": "06e94e60-4399-41d8-9137-c3f2d2156ca9",
        "colab": {
          "base_uri": "https://localhost:8080/"
        }
      },
      "execution_count": 13,
      "outputs": [
        {
          "output_type": "stream",
          "name": "stdout",
          "text": [
            "Enter first number: 6\n",
            "Enter second number: 7\n",
            "6\n",
            "7\n"
          ]
        }
      ]
    },
    {
      "cell_type": "code",
      "source": [
        "# print('4'+3)\n",
        "print(4+3)\n",
        "print('4'+'3')\n",
        "print(\"Re\"+\"han\")"
      ],
      "metadata": {
        "id": "MJWjWIKNzVsR",
        "outputId": "928ef11c-0179-407f-a560-71da01cabafe",
        "colab": {
          "base_uri": "https://localhost:8080/"
        }
      },
      "execution_count": 16,
      "outputs": [
        {
          "output_type": "stream",
          "name": "stdout",
          "text": [
            "7\n",
            "43\n",
            "Rehan\n"
          ]
        }
      ]
    },
    {
      "cell_type": "code",
      "source": [
        "first_number = input(\"Enter first number: \")\n",
        "second_number = input(\"Enter second number: \")\n",
        "\n",
        "print(type(first_number))\n",
        "print(type(second_number))\n",
        "\n",
        "print(\"result\", first_number+second_number)\n"
      ],
      "metadata": {
        "id": "ZVPR52Yc1bGd",
        "outputId": "9b776cdc-6cdc-4f90-b90a-babdc8362482",
        "colab": {
          "base_uri": "https://localhost:8080/"
        }
      },
      "execution_count": 19,
      "outputs": [
        {
          "output_type": "stream",
          "name": "stdout",
          "text": [
            "Enter first number: 4\n",
            "Enter second number: 5\n",
            "<class 'str'>\n",
            "<class 'str'>\n",
            "result 45\n"
          ]
        }
      ]
    },
    {
      "cell_type": "code",
      "source": [
        "\n",
        "first_number =   int(input(\"Enter first number: \"))\n",
        "second_number = int(input(\"Enter second number: \"))\n",
        "\n",
        "# print(type(first_number))\n",
        "# print(type(second_number))\n",
        "\n",
        "print(\"result\", first_number+second_number)"
      ],
      "metadata": {
        "id": "QXKgE6iL1_wB",
        "outputId": "af45aac1-c6eb-4a30-fd68-2f2d210ffec4",
        "colab": {
          "base_uri": "https://localhost:8080/"
        }
      },
      "execution_count": 21,
      "outputs": [
        {
          "output_type": "stream",
          "name": "stdout",
          "text": [
            "Enter first number: 6\n",
            "Enter second number: 6\n",
            "result 12\n"
          ]
        }
      ]
    },
    {
      "cell_type": "markdown",
      "source": [
        "**Arithematic Operators**   \n",
        "1- + Adding two numbers, or joining two strings\n",
        "\n",
        "2- - Subtracting two numbers\n",
        "\n",
        "3- * Multiplying two numbers\n",
        "\n",
        "4- / Dividing two numbers\n",
        "\n",
        "5- ** Power of two numbers\n",
        "\n",
        "6- % Modulus of two numbers\n",
        "\n",
        "7- // Floor division of two numbers"
      ],
      "metadata": {
        "id": "bptN7Z8P9U9N"
      }
    },
    {
      "cell_type": "code",
      "source": [
        "print(7/2)\n",
        "print(6/2)"
      ],
      "metadata": {
        "id": "Ci14x9bE2yxR",
        "outputId": "cf60b388-e488-4689-b0ca-017d4c3155f9",
        "colab": {
          "base_uri": "https://localhost:8080/"
        }
      },
      "execution_count": 30,
      "outputs": [
        {
          "output_type": "stream",
          "name": "stdout",
          "text": [
            "3.5\n",
            "3.0\n"
          ]
        }
      ]
    },
    {
      "cell_type": "code",
      "source": [
        "print(2**3) # 2*2*2\n",
        "print(2.0**3) # 2*2*2"
      ],
      "metadata": {
        "id": "JFD7t6JZ_S-K",
        "outputId": "b996c1b6-a90f-47a2-901f-15febfadd0e3",
        "colab": {
          "base_uri": "https://localhost:8080/"
        }
      },
      "execution_count": 25,
      "outputs": [
        {
          "output_type": "stream",
          "name": "stdout",
          "text": [
            "8.0\n"
          ]
        }
      ]
    },
    {
      "cell_type": "code",
      "source": [
        "print(7/3)\n",
        "print(7.0%3)"
      ],
      "metadata": {
        "id": "lN99ECMT_p2B",
        "outputId": "45d629b5-71f6-4c06-dec6-6e42c8b2ae05",
        "colab": {
          "base_uri": "https://localhost:8080/"
        }
      },
      "execution_count": 28,
      "outputs": [
        {
          "output_type": "stream",
          "name": "stdout",
          "text": [
            "2.3333333333333335\n",
            "1.0\n"
          ]
        }
      ]
    },
    {
      "cell_type": "code",
      "source": [
        "print(7//3)"
      ],
      "metadata": {
        "id": "lNC2fElAAJQb",
        "outputId": "ecb46623-4c4d-4e52-bebf-d9e80f661c22",
        "colab": {
          "base_uri": "https://localhost:8080/"
        }
      },
      "execution_count": 29,
      "outputs": [
        {
          "output_type": "stream",
          "name": "stdout",
          "text": [
            "2\n"
          ]
        }
      ]
    },
    {
      "cell_type": "markdown",
      "source": [
        "BIMASS BODMASS"
      ],
      "metadata": {
        "id": "Tsa8bLdCA2ec"
      }
    },
    {
      "cell_type": "markdown",
      "source": [
        "What is the operation order of arithematic operators in python. Explain this to a person with non IT background."
      ],
      "metadata": {
        "id": "idxD1uSQBf5K"
      }
    },
    {
      "cell_type": "code",
      "source": [
        "student_email = input(\"Enter your email: \")\n",
        "\n",
        "print(student_email)\n",
        "\n",
        " #String Methods"
      ],
      "metadata": {
        "id": "233j5OBYCj-n",
        "outputId": "65bca52f-1497-4976-aad4-61426ecdc847",
        "colab": {
          "base_uri": "https://localhost:8080/"
        }
      },
      "execution_count": 36,
      "outputs": [
        {
          "output_type": "stream",
          "name": "stdout",
          "text": [
            "Enter your email: REHAN@EXAMPLE.COM\n",
            "REHAN@EXAMPLE.COM\n"
          ]
        }
      ]
    },
    {
      "cell_type": "code",
      "source": [
        "student_email = input(\"Enter your email: \")\n",
        "\n",
        "print(student_email.lower()) #student_email.lower()\n",
        "\n",
        " #String Methods"
      ],
      "metadata": {
        "id": "-HoOG47qEXm0",
        "outputId": "a26b995c-2abc-4a73-be4d-80837ea41579",
        "colab": {
          "base_uri": "https://localhost:8080/"
        }
      },
      "execution_count": 37,
      "outputs": [
        {
          "output_type": "stream",
          "name": "stdout",
          "text": [
            "Enter your email: STUDENT@ABC.COM\n",
            "student@abc.com\n"
          ]
        }
      ]
    },
    {
      "cell_type": "code",
      "source": [
        "print(dir(\"Rehan\"))"
      ],
      "metadata": {
        "id": "kgo-QhskFOiN",
        "outputId": "a68dfa5a-c66c-4ce4-bed9-d5a38fb3e5eb",
        "colab": {
          "base_uri": "https://localhost:8080/"
        }
      },
      "execution_count": 39,
      "outputs": [
        {
          "output_type": "stream",
          "name": "stdout",
          "text": [
            "['__add__', '__class__', '__contains__', '__delattr__', '__dir__', '__doc__', '__eq__', '__format__', '__ge__', '__getattribute__', '__getitem__', '__getnewargs__', '__getstate__', '__gt__', '__hash__', '__init__', '__init_subclass__', '__iter__', '__le__', '__len__', '__lt__', '__mod__', '__mul__', '__ne__', '__new__', '__reduce__', '__reduce_ex__', '__repr__', '__rmod__', '__rmul__', '__setattr__', '__sizeof__', '__str__', '__subclasshook__', 'capitalize', 'casefold', 'center', 'count', 'encode', 'endswith', 'expandtabs', 'find', 'format', 'format_map', 'index', 'isalnum', 'isalpha', 'isascii', 'isdecimal', 'isdigit', 'isidentifier', 'islower', 'isnumeric', 'isprintable', 'isspace', 'istitle', 'isupper', 'join', 'ljust', 'lower', 'lstrip', 'maketrans', 'partition', 'removeprefix', 'removesuffix', 'replace', 'rfind', 'rindex', 'rjust', 'rpartition', 'rsplit', 'rstrip', 'split', 'splitlines', 'startswith', 'strip', 'swapcase', 'title', 'translate', 'upper', 'zfill']\n"
          ]
        }
      ]
    },
    {
      "cell_type": "code",
      "source": [
        "methods = [method for method in dir(str) if not method.startswith(\"__\")]\n",
        "print(methods)"
      ],
      "metadata": {
        "id": "XwXNUNr-F-i-",
        "outputId": "ffd2573f-ab86-47d5-cfc1-2a98c3beecc2",
        "colab": {
          "base_uri": "https://localhost:8080/"
        }
      },
      "execution_count": 40,
      "outputs": [
        {
          "output_type": "stream",
          "name": "stdout",
          "text": [
            "['capitalize', 'casefold', 'center', 'count', 'encode', 'endswith', 'expandtabs', 'find', 'format', 'format_map', 'index', 'isalnum', 'isalpha', 'isascii', 'isdecimal', 'isdigit', 'isidentifier', 'islower', 'isnumeric', 'isprintable', 'isspace', 'istitle', 'isupper', 'join', 'ljust', 'lower', 'lstrip', 'maketrans', 'partition', 'removeprefix', 'removesuffix', 'replace', 'rfind', 'rindex', 'rjust', 'rpartition', 'rsplit', 'rstrip', 'split', 'splitlines', 'startswith', 'strip', 'swapcase', 'title', 'translate', 'upper', 'zfill']\n"
          ]
        }
      ]
    }
  ]
}